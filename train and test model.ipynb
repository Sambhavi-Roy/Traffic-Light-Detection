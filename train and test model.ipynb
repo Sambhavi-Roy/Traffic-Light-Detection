{
 "cells": [
  {
   "cell_type": "code",
   "execution_count": null,
   "metadata": {},
   "outputs": [],
   "source": [
    "##TRAINING\n",
    "python train.py --img 512 --batch 8 --epochs 50 --data \"C:/path/to/data.yaml\" --weights yolov5s.pt --device 0\n",
    "\n",
    "#saving training reults\n",
    "python val.py --weights \"C:\\Users\\Sambhavi Roy\\Downloads\\cinTA_v2.v1-bismillah-ya-rabbalamin.yolov8\\yolov5-master\\yolov5-master\\runs\\train\\exp4\\weights\\best.pt\" --data \"C:\\Users\\Sambhavi Roy\\Downloads\\cinTA_v2.v1-bismillah-ya-rabbalamin.yolov8\\yolov5-master\\yolov5-master\\data.yaml\" --task test --img 640 --save-txt\n",
    "\n",
    "##Evaluate model performance\n",
    "#This command will automatically generate plots for training and validation loss, as well as mAP, Precision, and Recall in the runs/ directory.\n",
    "python train.py --weights path/to/your/model.pt --data path/to/your/data.yaml --plot-results\n",
    "\n",
    "\n",
    "##TESTING\n",
    "#use same yaml file as used in training\n",
    "#running on testing dataset\n",
    "python detect.py --weights runs/train/exp/weights/best.pt --source test_images/ --img-size 640\n",
    "python val.py --weights \"C:\\Users\\Sambhavi Roy\\Downloads\\cinTA_v2.v1-bismillah-ya-rabbalamin.yolov8\\yolov5-master\\yolov5-master\\runs\\train\\exp4\\weights\\best.pt\" --data \"C:\\Users\\Sambhavi Roy\\Downloads\\cinTA_v2.v1-bismillah-ya-rabbalamin.yolov8\\yolov5-master\\yolov5-master\\data.yaml\" --task test --img 640\n",
    "\n",
    "\n",
    "##Running on Video\n",
    "python detect.py --weights \"path/to/your/best.pt\" --source \"path/to/video.mp4\"\n"
   ]
  }
 ],
 "metadata": {
  "language_info": {
   "name": "python"
  }
 },
 "nbformat": 4,
 "nbformat_minor": 2
}
