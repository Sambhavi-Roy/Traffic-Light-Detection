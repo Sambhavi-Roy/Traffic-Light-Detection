{
 "cells": [
  {
   "cell_type": "markdown",
   "metadata": {},
   "source": [
    "Write in Anaconda prompt base terminal"
   ]
  },
  {
   "cell_type": "markdown",
   "metadata": {},
   "source": [
    "YOLOv5"
   ]
  },
  {
   "cell_type": "code",
   "execution_count": null,
   "metadata": {},
   "outputs": [],
   "source": [
    "##TRAINING\n",
    "python train.py --img 512 --batch 8 --epochs 50 --data \"C:/path/to/data.yaml\" --weights yolov5s.pt --device 0\n",
    "\n",
    "#saving training reults\n",
    "python val.py --weights \"C:\\Users\\Sambhavi Roy\\Downloads\\cinTA_v2.v1-bismillah-ya-rabbalamin.yolov8\\yolov5-master\\yolov5-master\\runs\\train\\exp4\\weights\\best.pt\" --data \"C:\\Users\\Sambhavi Roy\\Downloads\\cinTA_v2.v1-bismillah-ya-rabbalamin.yolov8\\yolov5-master\\yolov5-master\\data.yaml\" --task test --img 640 --save-txt\n",
    "\n",
    "##Evaluate model performance\n",
    "#This command will automatically generate plots for training and validation loss, as well as mAP, Precision, and Recall in the runs/ directory.\n",
    "python train.py --weights path/to/your/model.pt --data path/to/your/data.yaml --plot-results\n",
    "\n",
    "\n",
    "##TESTING\n",
    "#use same yaml file as used in training\n",
    "#running on testing dataset\n",
    "python detect.py --weights runs/train/exp/weights/best.pt --source test_images/ --img-size 640\n",
    "python val.py --weights \"C:\\Users\\Sambhavi Roy\\Downloads\\cinTA_v2.v1-bismillah-ya-rabbalamin.yolov8\\yolov5-master\\yolov5-master\\runs\\train\\exp4\\weights\\best.pt\" --data \"C:\\Users\\Sambhavi Roy\\Downloads\\cinTA_v2.v1-bismillah-ya-rabbalamin.yolov8\\yolov5-master\\yolov5-master\\data.yaml\" --task test --img 640\n",
    "\n",
    "\n",
    "##Running on Video\n",
    "python detect.py --weights \"path/to/your/best.pt\" --source \"path/to/video.mp4\"\n"
   ]
  },
  {
   "cell_type": "markdown",
   "metadata": {},
   "source": [
    "YOLOv8"
   ]
  },
  {
   "cell_type": "code",
   "execution_count": null,
   "metadata": {},
   "outputs": [],
   "source": [
    "##CLEARING CACHE\n",
    "python \"c:\\Users\\Sambhavi Roy\\Downloads\\clear cache.py\"\n",
    "\n",
    "##TRAINING\n",
    "yolo train model=yolov8n.pt data=\"C:\\Users\\Sambhavi Roy\\Downloads\\Bismillah yolov8\\data.yaml\" epochs=10 batch=8\n",
    "\n",
    "##TESTING on test folder\n",
    "yolo val model=\"C:\\Users\\Sambhavi Roy\\Downloads\\Bismillah yolov8\\runs\\train5 10 epochs\\weights\\best.pt\" data=\"C:\\Users\\Sambhavi Roy\\Downloads\\Bismillah yolov8\\data.yaml\" imgsz=640 task=detect\n",
    "\n",
    "##TESTING ON DIFFERENT IMAGES\n",
    "yolo val model=\"C:\\Users\\Sambhavi Roy\\Downloads\\Bismillah yolov8\\runs\\train5 10 epochs\\weights\\best.pt\" data=\"C:\\Users\\Sambhavi Roy\\Downloads\\Traffic object train.v1i.yolov5pytorch\\data.yaml\" imgsz=640 task=detect"
   ]
  },
  {
   "cell_type": "markdown",
   "metadata": {},
   "source": []
  }
 ],
 "metadata": {
  "kernelspec": {
   "display_name": "base",
   "language": "python",
   "name": "python3"
  },
  "language_info": {
   "name": "python",
   "version": "3.11.9"
  }
 },
 "nbformat": 4,
 "nbformat_minor": 2
}
